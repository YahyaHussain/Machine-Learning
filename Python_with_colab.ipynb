{
  "nbformat": 4,
  "nbformat_minor": 0,
  "metadata": {
    "colab": {
      "provenance": [],
      "authorship_tag": "ABX9TyNNOK2qP7bfwSO/nwccCiNH",
      "include_colab_link": true
    },
    "kernelspec": {
      "name": "python3",
      "display_name": "Python 3"
    },
    "language_info": {
      "name": "python"
    }
  },
  "cells": [
    {
      "cell_type": "markdown",
      "metadata": {
        "id": "view-in-github",
        "colab_type": "text"
      },
      "source": [
        "<a href=\"https://colab.research.google.com/github/YahyaHussain/Python/blob/main/Python_with_colab.ipynb\" target=\"_parent\"><img src=\"https://colab.research.google.com/assets/colab-badge.svg\" alt=\"Open In Colab\"/></a>"
      ]
    },
    {
      "cell_type": "markdown",
      "source": [
        "#Python With Colab"
      ],
      "metadata": {
        "id": "pXVQ2lyakcs4"
      }
    },
    {
      "cell_type": "markdown",
      "source": [
        "##Introduction"
      ],
      "metadata": {
        "id": "wDDe_6L533wO"
      }
    },
    {
      "cell_type": "markdown",
      "source": [
        "Python is a great general-purpose programming language on its own, but with the help of a few popular libraries (numpy, scipy, matplotlib) it becomes a powerful environment for scientific computing."
      ],
      "metadata": {
        "id": "rVo8XR2i3_jq"
      }
    },
    {
      "cell_type": "markdown",
      "source": [
        "In this tutorial we cover Basic Python:\n",
        "\n",
        "Basic data types (Containers, Lists, Dictionaries, Sets, Tuples), Functions"
      ],
      "metadata": {
        "id": "XTf5X9xs4KVq"
      }
    },
    {
      "cell_type": "markdown",
      "source": [
        "##Python Versions"
      ],
      "metadata": {
        "id": "dVqGm3fvhv74"
      }
    },
    {
      "cell_type": "markdown",
      "source": [
        "You can check your Python version at the command line by running `python --version`. In Colab, we can enforce the Python version by clicking `Runtime -> Change Runtime Type` and selecting `python3`.\n",
        "\n",
        "To execute `python --version` in colab we use `!python --version`. Here `!` indicates that the `python --version` is not a normal code but a command.\n",
        "\n",
        "`NameError: name 'python' is not defined` if `python --version` is used in colab."
      ],
      "metadata": {
        "id": "_5g6bKHZkp1p"
      }
    },
    {
      "cell_type": "code",
      "source": [
        "!python --version"
      ],
      "metadata": {
        "id": "XP7DRCLDjP0g"
      },
      "execution_count": null,
      "outputs": []
    },
    {
      "cell_type": "markdown",
      "source": [
        "##Basics of Python"
      ],
      "metadata": {
        "id": "6pxOAElznTUJ"
      }
    },
    {
      "cell_type": "markdown",
      "source": [
        "Python is a high-level, dynamically typed multiparadigm programming language. Python code is often said to be almost like pseudocode, since it allows you to express very powerful ideas in very few lines of code while being very readable. As an example, here is an implementation of the classic quicksort algorithm in Python:"
      ],
      "metadata": {
        "id": "cFO9nKcCnawu"
      }
    },
    {
      "cell_type": "code",
      "source": [
        "def quicksort(arr):\n",
        "    if len(arr) <= 1:\n",
        "        return arr\n",
        "    pivot = arr[len(arr) // 2]\n",
        "    left = [x for x in arr if x < pivot]\n",
        "    middle = [x for x in arr if x == pivot]\n",
        "    right = [x for x in arr if x > pivot]\n",
        "    return quicksort(left) + middle + quicksort(right)\n",
        "\n",
        "print(quicksort([3,6,8,10,1,2,1]))"
      ],
      "metadata": {
        "id": "jrBlXrIBnaYA"
      },
      "execution_count": null,
      "outputs": []
    },
    {
      "cell_type": "markdown",
      "source": [
        "###Basic Data Types:"
      ],
      "metadata": {
        "id": "CrWhYaZw6TGv"
      }
    },
    {
      "cell_type": "markdown",
      "source": [
        "####Numbers"
      ],
      "metadata": {
        "id": "mIwiG7Rw6aXB"
      }
    },
    {
      "cell_type": "markdown",
      "source": [
        "Integers and floats work as you would expect from other languages:"
      ],
      "metadata": {
        "id": "KYpK73_E6cNN"
      }
    },
    {
      "cell_type": "code",
      "source": [
        "x = 3\n",
        "print(x, type(x))"
      ],
      "metadata": {
        "id": "ucR3BUR6kXE3"
      },
      "execution_count": null,
      "outputs": []
    },
    {
      "cell_type": "code",
      "source": [
        "print(x + 1)   # Addition\n",
        "print(x - 1)   # Subtraction\n",
        "print(x * 2)   # Multiplication\n",
        "print(x ** 2)  # Exponentiation"
      ],
      "metadata": {
        "id": "78TNWleQ6l1n"
      },
      "execution_count": null,
      "outputs": []
    },
    {
      "cell_type": "code",
      "source": [
        "x += 1\n",
        "print(x)\n",
        "x *= 2\n",
        "print(x)"
      ],
      "metadata": {
        "id": "K3xu2HBK6zvP"
      },
      "execution_count": null,
      "outputs": []
    },
    {
      "cell_type": "code",
      "source": [
        "y = 2.5\n",
        "print(type(y))\n",
        "print(y, y + 1, y * 2, y ** 2)"
      ],
      "metadata": {
        "id": "1dJNUXST6213"
      },
      "execution_count": null,
      "outputs": []
    },
    {
      "cell_type": "markdown",
      "source": [
        "Note that unlike many languages, Python does not have unary increment (x++) or decrement (x--) operators.\n",
        "\n",
        "Python also has built-in types for long integers and complex numbers; you can find all of the details in the [documentation](https://docs.python.org/3.7/library/stdtypes.html#numeric-types-int-float-long-complex).\n",
        "\n",
        "Complex numbers have a real and imaginary part, which are each a floating point number. To extract these parts from a complex number z, use `z.real` and `z.imag`."
      ],
      "metadata": {
        "id": "Syxs6dHR7JAI"
      }
    },
    {
      "cell_type": "code",
      "source": [
        "a = 5\n",
        "y = 7\n",
        "z = complex(a, y) # Z = a + iy\n",
        "print(type(z))\n",
        "print(a, y) # Integer\n",
        "print(z.real, z.imag) # Floating point number"
      ],
      "metadata": {
        "id": "7oaDbEgq7IoL"
      },
      "execution_count": null,
      "outputs": []
    },
    {
      "cell_type": "markdown",
      "source": [
        "####Booleans"
      ],
      "metadata": {
        "id": "9MQTsfJ76lbd"
      }
    },
    {
      "cell_type": "markdown",
      "source": [
        "Python implements all of the usual operators for Boolean logic, but uses English words rather than symbols (`&&`, `||`, etc.):"
      ],
      "metadata": {
        "id": "Ktv8gNLl9vgb"
      }
    },
    {
      "cell_type": "code",
      "source": [
        "t, f = True, False\n",
        "print(type(t))\n",
        "print(t, f)"
      ],
      "metadata": {
        "id": "9X-oqcgl9wcL"
      },
      "execution_count": null,
      "outputs": []
    },
    {
      "cell_type": "markdown",
      "source": [
        "Now we let's look at the operations:"
      ],
      "metadata": {
        "id": "eGfbORhF92Pb"
      }
    },
    {
      "cell_type": "code",
      "source": [
        "print(t and f) # Logical AND;\n",
        "print(t or f)  # Logical OR;\n",
        "print(not t)   # Logical NOT;\n",
        "print(t != f)  # Logical XOR;"
      ],
      "metadata": {
        "id": "Qgs28KN990GA"
      },
      "execution_count": null,
      "outputs": []
    },
    {
      "cell_type": "markdown",
      "source": [
        "####Strings"
      ],
      "metadata": {
        "id": "n7FYv6ei-G-A"
      }
    },
    {
      "cell_type": "code",
      "source": [
        "hello = 'hello'   # String literals can use single quotes\n",
        "world = \"world\"   # or double quotes; it does not matter\n",
        "print (type(hello)) # type(world) is same as type(hello)\n",
        "print(hello, len(hello))"
      ],
      "metadata": {
        "id": "zlE-VvNp-L0i"
      },
      "execution_count": null,
      "outputs": []
    },
    {
      "cell_type": "code",
      "source": [
        "hw = hello + ' ' + world  # String concatenation\n",
        "print(hw)"
      ],
      "metadata": {
        "id": "Qj1b8WUl-mzE"
      },
      "execution_count": null,
      "outputs": []
    },
    {
      "cell_type": "code",
      "source": [
        "hw12 = '{} test {} this one too {}'.format(hello, world, 12)  # string formatting\n",
        "print(hw12)"
      ],
      "metadata": {
        "id": "Bs6AJ4N1-21J"
      },
      "execution_count": null,
      "outputs": []
    },
    {
      "cell_type": "markdown",
      "source": [
        "String objects have a bunch of useful methods; for example:"
      ],
      "metadata": {
        "id": "z_P9gS1Q_HkG"
      }
    },
    {
      "cell_type": "code",
      "source": [
        "s = \"hello\"\n",
        "print(s.capitalize())  # Capitalize a string\n",
        "print(s.upper())       # Convert a string to uppercase; prints \"HELLO\"\n",
        "print(s.rjust(7))      # Right-justify a string, padding with spaces\n",
        "print(s.center(7))     # Center a string, padding with spaces\n",
        "print(s.replace('l', '(ell)'))  # Replace all instances of one substring with another\n",
        "print('      world    '.strip())  # Strip leading and trailing whitespace"
      ],
      "metadata": {
        "id": "nwOXE7pD-_83"
      },
      "execution_count": null,
      "outputs": []
    },
    {
      "cell_type": "markdown",
      "source": [
        "You can find a list of all string methods in the [documentation](https://docs.python.org/3.7/library/stdtypes.html#string-methods)."
      ],
      "metadata": {
        "id": "uIx_AzEg_w0-"
      }
    },
    {
      "cell_type": "markdown",
      "source": [
        "###Containers"
      ],
      "metadata": {
        "id": "3HL1NkuL_2db"
      }
    },
    {
      "cell_type": "markdown",
      "source": [
        "Python includes several built-in container types: lists, dictionaries, sets, and tuples."
      ],
      "metadata": {
        "id": "z1oQeg1w_5iu"
      }
    },
    {
      "cell_type": "markdown",
      "source": [
        "####Lists"
      ],
      "metadata": {
        "id": "s9MD7FLwAw9G"
      }
    },
    {
      "cell_type": "markdown",
      "source": [
        "A list is the Python equivalent of an array, but is resizeable and can contain elements of different types:"
      ],
      "metadata": {
        "id": "lvSZm6d5Ay6_"
      }
    },
    {
      "cell_type": "code",
      "source": [
        "xs = [3, 1, 2]   # Create a list\n",
        "print(xs, xs[2])\n",
        "print(xs[-1])     # Negative indices count from the end of the list; prints \"2\""
      ],
      "metadata": {
        "id": "JFbH4aEJ_1u_"
      },
      "execution_count": null,
      "outputs": []
    },
    {
      "cell_type": "code",
      "source": [
        "xs[2] = 'foo'    # Lists can contain elements of different types\n",
        "print(xs)"
      ],
      "metadata": {
        "id": "ihAiAwUeBEen"
      },
      "execution_count": null,
      "outputs": []
    },
    {
      "cell_type": "code",
      "source": [
        "xs.append('bar') # Add a new element to the end of the list\n",
        "print(xs)"
      ],
      "metadata": {
        "id": "9gwFWexuBFPM"
      },
      "execution_count": null,
      "outputs": []
    },
    {
      "cell_type": "code",
      "source": [
        "x = xs.pop()     # Remove and return the last element of the list\n",
        "print(x, xs)"
      ],
      "metadata": {
        "id": "tYckf1rDBKGl"
      },
      "execution_count": null,
      "outputs": []
    },
    {
      "cell_type": "markdown",
      "source": [
        "As usual, you can find all the details about lists in the [documentation](https://docs.python.org/3.7/tutorial/datastructures.html#more-on-lists)."
      ],
      "metadata": {
        "id": "cSkY856LBUXT"
      }
    },
    {
      "cell_type": "markdown",
      "source": [
        "####Slicing"
      ],
      "metadata": {
        "id": "cI7XRkFiHekE"
      }
    },
    {
      "cell_type": "markdown",
      "source": [
        "In addition to accessing list elements one at a time, Python provides concise syntax to access sublists; this is known as slicing:"
      ],
      "metadata": {
        "id": "dTVg7Xl5Hl81"
      }
    },
    {
      "cell_type": "code",
      "source": [
        "nums = list(range(5))    # range is a built-in function that creates a list of integers\n",
        "print(nums)         # Prints \"[0, 1, 2, 3, 4]\"\n",
        "print(nums[2:4])    # Get a slice from index 2 to 4 (exclusive); prints \"[2, 3]\"\n",
        "print(nums[2:])     # Get a slice from index 2 to the end; prints \"[2, 3, 4]\"\n",
        "print(nums[:2])     # Get a slice from the start to index 2 (exclusive); prints \"[0, 1]\"\n",
        "print(nums[:])      # Get a slice of the whole list; prints [\"0, 1, 2, 3, 4]\"\n",
        "print(nums[:-1])    # Slice indices can be negative; prints [\"0, 1, 2, 3]\"\n",
        "nums[2:4] = [8, 9] # Assign a new sublist to a slice\n",
        "print(nums)         # Prints \"[0, 1, 8, 9, 4]\""
      ],
      "metadata": {
        "id": "LQwuDX0tHlrR"
      },
      "execution_count": null,
      "outputs": []
    },
    {
      "cell_type": "markdown",
      "source": [
        "####Loops"
      ],
      "metadata": {
        "id": "1onP6SUAIIcl"
      }
    },
    {
      "cell_type": "markdown",
      "source": [
        "You can loop over the elements of a list like this:"
      ],
      "metadata": {
        "id": "ZKFyKVPiINqf"
      }
    },
    {
      "cell_type": "code",
      "source": [
        "animals = ['cat', 'dog', 'monkey']\n",
        "for animal in animals:\n",
        "    print(animal)"
      ],
      "metadata": {
        "id": "HTnhDCGxIMsR"
      },
      "execution_count": null,
      "outputs": []
    },
    {
      "cell_type": "markdown",
      "source": [
        "If you want access to the index of each element within the body of a loop, use the built-in `enumerate` function:"
      ],
      "metadata": {
        "id": "IMBSoJvzIVjO"
      }
    },
    {
      "cell_type": "code",
      "source": [
        "animals = ['cat', 'dog', 'monkey']\n",
        "z = enumerate(animals)\n",
        "print(type(z))\n",
        "print(list(z))\n",
        "\n",
        "for idx, animal in enumerate(animals):\n",
        "    print('#{}: {}'.format(idx + 1, animal))"
      ],
      "metadata": {
        "id": "46_mo36cIXC_"
      },
      "execution_count": null,
      "outputs": []
    },
    {
      "cell_type": "markdown",
      "source": [
        "####List comprehensions:"
      ],
      "metadata": {
        "id": "hIySd0quJ22e"
      }
    },
    {
      "cell_type": "markdown",
      "source": [
        "When programming, frequently we want to transform one type of data into another. As a simple example, consider the following code that computes square numbers:"
      ],
      "metadata": {
        "id": "vZn8TR5EJ6PY"
      }
    },
    {
      "cell_type": "code",
      "source": [
        "nums = [0, 1, 2, 3, 4]\n",
        "squares = []\n",
        "for x in nums:\n",
        "    squares.append(x ** 2)\n",
        "print(squares)"
      ],
      "metadata": {
        "id": "URLRVvNaJ9sN"
      },
      "execution_count": null,
      "outputs": []
    },
    {
      "cell_type": "markdown",
      "source": [
        "You can make this code simpler using a list comprehension:"
      ],
      "metadata": {
        "id": "Q0NI-BWjKPKg"
      }
    },
    {
      "cell_type": "code",
      "source": [
        "nums = [0, 1, 2, 3, 4]\n",
        "squares = [x ** 2 for x in nums]\n",
        "print(squares)"
      ],
      "metadata": {
        "id": "DMtvTWOoKRty"
      },
      "execution_count": null,
      "outputs": []
    },
    {
      "cell_type": "markdown",
      "source": [
        "List comprehensions can also contain conditions:"
      ],
      "metadata": {
        "id": "lORbSRU5KVjr"
      }
    },
    {
      "cell_type": "code",
      "source": [
        "nums = [0, 1, 2, 3, 4]\n",
        "even_squares = [x ** 2 for x in nums if x % 2 == 0]\n",
        "print(even_squares)"
      ],
      "metadata": {
        "id": "dmdnIgJ7KWXu"
      },
      "execution_count": null,
      "outputs": []
    },
    {
      "cell_type": "markdown",
      "source": [
        "####Dictionaries"
      ],
      "metadata": {
        "id": "thjD2AtmfnAR"
      }
    },
    {
      "cell_type": "markdown",
      "source": [
        "A dictionary stores (key, value) pairs, similar to a `Map` in Java or an object in Javascript. You can use it like this:"
      ],
      "metadata": {
        "id": "SoQYit9yfomB"
      }
    },
    {
      "cell_type": "code",
      "source": [
        "d = {'cat': 'cute', 'dog': 'furry'}  # Create a new dictionary with some data\n",
        "print(d['cat'])       # Get an entry from a dictionary; prints \"cute\"\n",
        "print('cat' in d)     # Check if a dictionary has a given key; prints \"True\""
      ],
      "metadata": {
        "id": "wctLdBvDfr2P"
      },
      "execution_count": null,
      "outputs": []
    },
    {
      "cell_type": "code",
      "source": [
        "d['fish'] = 'wet'    # Set an entry in a dictionary\n",
        "print(d['fish'])      # Prints \"wet\""
      ],
      "metadata": {
        "id": "0ot8OgTefxmA"
      },
      "execution_count": null,
      "outputs": []
    },
    {
      "cell_type": "code",
      "source": [
        "print(d['monkey'])  # KeyError: 'monkey' not a key of d"
      ],
      "metadata": {
        "id": "gteF1kxRf2Qy"
      },
      "execution_count": null,
      "outputs": []
    },
    {
      "cell_type": "code",
      "source": [
        "print(d.get('monkey', 'N/A'))  # Get an element with a default; prints \"N/A\"\n",
        "print(d.get('fish', 'N/A'))    # Get an element with a default; prints \"wet\""
      ],
      "metadata": {
        "id": "Hkf2tB7Vf-OZ"
      },
      "execution_count": null,
      "outputs": []
    },
    {
      "cell_type": "code",
      "source": [
        "del d['fish']        # Remove an element from a dictionary\n",
        "print(d.get('fish', 'N/A')) # \"fish\" is no longer a key; prints \"N/A\""
      ],
      "metadata": {
        "id": "dzzn38qqgHri"
      },
      "execution_count": null,
      "outputs": []
    },
    {
      "cell_type": "markdown",
      "source": [
        "You can find all you need to know about dictionaries in the [documentation](https://docs.python.org/2/library/stdtypes.html#dict)."
      ],
      "metadata": {
        "id": "poyKfeN5gOU9"
      }
    },
    {
      "cell_type": "markdown",
      "source": [
        "It is easy to iterate over the keys in a dictionary:\n",
        "\n",
        "1.   List item\n",
        "2.   List item"
      ],
      "metadata": {
        "id": "de1b2kUbgZr2"
      }
    },
    {
      "cell_type": "code",
      "source": [
        "d = {'person': 2, 'cat': 4, 'spider': 8}\n",
        "for animal, legs in d.items():\n",
        "    print('A {} has {} legs'.format(animal, legs))"
      ],
      "metadata": {
        "id": "nLhXAtlbgMdW"
      },
      "execution_count": null,
      "outputs": []
    },
    {
      "cell_type": "markdown",
      "source": [
        "Dictionary comprehensions: These are similar to list comprehensions, but allow you to easily construct dictionaries.\n",
        "\n",
        "For example:"
      ],
      "metadata": {
        "id": "_CesjHEZlo9e"
      }
    },
    {
      "cell_type": "code",
      "source": [
        "nums = [0, 1, 2, 3, 4]\n",
        "even_num_to_square = {x: x ** 2 for x in nums if x % 2 == 0}\n",
        "print(even_num_to_square)"
      ],
      "metadata": {
        "id": "OWYUZ1udmFiN"
      },
      "execution_count": null,
      "outputs": []
    },
    {
      "cell_type": "markdown",
      "source": [
        "####Sets"
      ],
      "metadata": {
        "id": "TqxuGrvQmoxt"
      }
    },
    {
      "cell_type": "markdown",
      "source": [
        "A set is an unordered collection of distinct elements. As a simple example, consider the following:"
      ],
      "metadata": {
        "id": "jd6lFmhDmsJl"
      }
    },
    {
      "cell_type": "code",
      "source": [
        "animals = {'cat', 'dog'}\n",
        "print('cat' in animals)   # Check if an element is in a set; prints \"True\"\n",
        "print('fish' in animals)  # prints \"False\""
      ],
      "metadata": {
        "id": "a9BaYoZNm6Gl"
      },
      "execution_count": null,
      "outputs": []
    },
    {
      "cell_type": "code",
      "source": [
        "animals.add('fish')      # Add an element to a set\n",
        "print('fish' in animals)\n",
        "print(len(animals))       # Number of elements in a set;"
      ],
      "metadata": {
        "id": "HtyMuCfZm_r6"
      },
      "execution_count": null,
      "outputs": []
    },
    {
      "cell_type": "code",
      "source": [
        "animals.add('cat')       # Adding an element that is already in the set does nothing\n",
        "print(len(animals))\n",
        "animals.remove('cat')    # Remove an element from a set\n",
        "print(len(animals))"
      ],
      "metadata": {
        "id": "PToEPsTDnDEs"
      },
      "execution_count": null,
      "outputs": []
    },
    {
      "cell_type": "markdown",
      "source": [
        "_Loops_: Iterating over a set has the same syntax as iterating over a list; however since sets are unordered, you cannot make assumptions about the order in which you visit the elements of the set:"
      ],
      "metadata": {
        "id": "X8nh63jpnJS9"
      }
    },
    {
      "cell_type": "code",
      "source": [
        "animals = {'cat', 'dog', 'fish'}\n",
        "for idx, animal in enumerate(animals):\n",
        "    print('#{}: {}'.format(idx + 1, animal))"
      ],
      "metadata": {
        "id": "0ua2ZpCCnPCK"
      },
      "execution_count": null,
      "outputs": []
    },
    {
      "cell_type": "markdown",
      "source": [
        "Set comprehensions: Like lists and dictionaries, we can easily construct sets using set comprehensions:"
      ],
      "metadata": {
        "id": "YuuYZV0rncU2"
      }
    },
    {
      "cell_type": "code",
      "source": [
        "from math import sqrt\n",
        "print({int(sqrt(x)) for x in range(30)})"
      ],
      "metadata": {
        "id": "ENlN3GXene3Z"
      },
      "execution_count": null,
      "outputs": []
    },
    {
      "cell_type": "markdown",
      "source": [
        "####Tuples"
      ],
      "metadata": {
        "id": "5ss13d1Yneid"
      }
    },
    {
      "cell_type": "markdown",
      "source": [
        "A tuple is an (immutable) ordered list of values. A tuple is in many ways similar to a list; one of the most important differences is that tuples can be used as keys in dictionaries and as elements of sets, while lists cannot. Here is a trivial example:"
      ],
      "metadata": {
        "id": "RDoteW5Moggw"
      }
    },
    {
      "cell_type": "code",
      "source": [
        "d = {(x, x + 1): x for x in range(10)}  # Create a dictionary with tuple keys\n",
        "t = (5, 6)       # Create a tuple\n",
        "print(type(t))\n",
        "print(d[t])\n",
        "print(d[(1, 2)])"
      ],
      "metadata": {
        "id": "z-uuFXK0of2f"
      },
      "execution_count": null,
      "outputs": []
    },
    {
      "cell_type": "code",
      "source": [
        "t[0] = 1  # Generates error because tuples are immutable"
      ],
      "metadata": {
        "id": "TseT-I54oyB5"
      },
      "execution_count": null,
      "outputs": []
    },
    {
      "cell_type": "markdown",
      "source": [
        "###Functions"
      ],
      "metadata": {
        "id": "FQZebmGtqYTW"
      }
    },
    {
      "cell_type": "markdown",
      "source": [
        "Python functions are defined using the `def` keyword. For example:"
      ],
      "metadata": {
        "id": "Kmmwp5C3qbsW"
      }
    },
    {
      "cell_type": "code",
      "source": [
        "def sign(x):\n",
        "    if x > 0:\n",
        "        return 'positive'\n",
        "    elif x < 0:\n",
        "        return 'negative'\n",
        "    else:\n",
        "        return 'zero'\n",
        "\n",
        "for x in [-1, 0, 1]:\n",
        "    print(sign(x))"
      ],
      "metadata": {
        "id": "io4ltBNxqbcz"
      },
      "execution_count": null,
      "outputs": []
    },
    {
      "cell_type": "markdown",
      "source": [
        "We will often define functions to take optional keyword arguments, like this:"
      ],
      "metadata": {
        "id": "w-qOG1SDq7oT"
      }
    },
    {
      "cell_type": "code",
      "source": [
        "def hello(name, loud=False):\n",
        "    if loud:\n",
        "        print('HELLO, {}'.format(name.upper()))\n",
        "    else:\n",
        "        print('Hello, {}!'.format(name))\n",
        "\n",
        "hello('Bob')\n",
        "hello('Fred', loud=True)"
      ],
      "metadata": {
        "id": "r9YxB390q9pY"
      },
      "execution_count": null,
      "outputs": []
    }
  ]
}
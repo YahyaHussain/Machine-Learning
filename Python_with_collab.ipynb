{
  "nbformat": 4,
  "nbformat_minor": 0,
  "metadata": {
    "colab": {
      "provenance": [],
      "authorship_tag": "ABX9TyPRGfBLu6oRJHcNKDHer/cH",
      "include_colab_link": true
    },
    "kernelspec": {
      "name": "python3",
      "display_name": "Python 3"
    },
    "language_info": {
      "name": "python"
    }
  },
  "cells": [
    {
      "cell_type": "markdown",
      "metadata": {
        "id": "view-in-github",
        "colab_type": "text"
      },
      "source": [
        "<a href=\"https://colab.research.google.com/github/YahyaHussain/Python/blob/main/Python_with_collab.ipynb\" target=\"_parent\"><img src=\"https://colab.research.google.com/assets/colab-badge.svg\" alt=\"Open In Colab\"/></a>"
      ]
    },
    {
      "cell_type": "markdown",
      "source": [
        "#Python With Colab"
      ],
      "metadata": {
        "id": "pXVQ2lyakcs4"
      }
    },
    {
      "cell_type": "markdown",
      "source": [
        "##Introduction"
      ],
      "metadata": {
        "id": "wDDe_6L533wO"
      }
    },
    {
      "cell_type": "markdown",
      "source": [
        "Python is a great general-purpose programming language on its own, but with the help of a few popular libraries (numpy, scipy, matplotlib) it becomes a powerful environment for scientific computing."
      ],
      "metadata": {
        "id": "rVo8XR2i3_jq"
      }
    },
    {
      "cell_type": "markdown",
      "source": [
        "In this tutorial we cover Basic Python:\n",
        "\n",
        "Basic data types (Containers, Lists, Dictionaries, Sets, Tuples), Functions, Classes"
      ],
      "metadata": {
        "id": "XTf5X9xs4KVq"
      }
    },
    {
      "cell_type": "markdown",
      "source": [
        "##Python Versions"
      ],
      "metadata": {
        "id": "dVqGm3fvhv74"
      }
    },
    {
      "cell_type": "markdown",
      "source": [
        "You can check your Python version at the command line by running `python --version`. In Colab, we can enforce the Python version by clicking `Runtime -> Change Runtime Type` and selecting `python3`.\n",
        "\n",
        "To execute `python --version` in colab we use `!python --version`. Here `!` indicates that the `python --version` is not a normal code but a command.\n",
        "\n",
        "`NameError: name 'python' is not defined` if `python --version` is used in colab."
      ],
      "metadata": {
        "id": "_5g6bKHZkp1p"
      }
    },
    {
      "cell_type": "code",
      "source": [
        "!python --version"
      ],
      "metadata": {
        "colab": {
          "base_uri": "https://localhost:8080/"
        },
        "id": "XP7DRCLDjP0g",
        "outputId": "ed18dd6a-2375-4246-888d-30e2954effa7"
      },
      "execution_count": null,
      "outputs": [
        {
          "output_type": "stream",
          "name": "stdout",
          "text": [
            "Python 3.10.12\n"
          ]
        }
      ]
    },
    {
      "cell_type": "markdown",
      "source": [
        "##Basics of Python"
      ],
      "metadata": {
        "id": "6pxOAElznTUJ"
      }
    },
    {
      "cell_type": "markdown",
      "source": [
        "Python is a high-level, dynamically typed multiparadigm programming language. Python code is often said to be almost like pseudocode, since it allows you to express very powerful ideas in very few lines of code while being very readable. As an example, here is an implementation of the classic quicksort algorithm in Python:"
      ],
      "metadata": {
        "id": "cFO9nKcCnawu"
      }
    },
    {
      "cell_type": "code",
      "source": [
        "def quicksort(arr):\n",
        "    if len(arr) <= 1:\n",
        "        return arr\n",
        "    pivot = arr[len(arr) // 2]\n",
        "    left = [x for x in arr if x < pivot]\n",
        "    middle = [x for x in arr if x == pivot]\n",
        "    right = [x for x in arr if x > pivot]\n",
        "    return quicksort(left) + middle + quicksort(right)\n",
        "\n",
        "print(quicksort([3,6,8,10,1,2,1]))"
      ],
      "metadata": {
        "colab": {
          "base_uri": "https://localhost:8080/"
        },
        "id": "jrBlXrIBnaYA",
        "outputId": "b3e3a3ae-684f-4370-ea64-62bb2bef6b9a"
      },
      "execution_count": null,
      "outputs": [
        {
          "output_type": "stream",
          "name": "stdout",
          "text": [
            "[1, 1, 2, 3, 6, 8, 10]\n"
          ]
        }
      ]
    },
    {
      "cell_type": "markdown",
      "source": [
        "###Basic Data Types:"
      ],
      "metadata": {
        "id": "CrWhYaZw6TGv"
      }
    },
    {
      "cell_type": "markdown",
      "source": [
        "####Numbers"
      ],
      "metadata": {
        "id": "mIwiG7Rw6aXB"
      }
    },
    {
      "cell_type": "markdown",
      "source": [
        "Integers and floats work as you would expect from other languages:"
      ],
      "metadata": {
        "id": "KYpK73_E6cNN"
      }
    },
    {
      "cell_type": "code",
      "source": [
        "x = 3\n",
        "print(x, type(x))"
      ],
      "metadata": {
        "colab": {
          "base_uri": "https://localhost:8080/"
        },
        "id": "ucR3BUR6kXE3",
        "outputId": "1fe2a040-a10f-463d-ff62-9fac82817964"
      },
      "execution_count": null,
      "outputs": [
        {
          "output_type": "stream",
          "name": "stdout",
          "text": [
            "3 <class 'int'>\n"
          ]
        }
      ]
    },
    {
      "cell_type": "code",
      "source": [
        "print(x + 1)   # Addition\n",
        "print(x - 1)   # Subtraction\n",
        "print(x * 2)   # Multiplication\n",
        "print(x ** 2)  # Exponentiation"
      ],
      "metadata": {
        "colab": {
          "base_uri": "https://localhost:8080/"
        },
        "id": "78TNWleQ6l1n",
        "outputId": "1c4e6d5a-2856-4c49-eb3d-b4ffb4ebfd4b"
      },
      "execution_count": null,
      "outputs": [
        {
          "output_type": "stream",
          "name": "stdout",
          "text": [
            "9\n",
            "7\n",
            "16\n",
            "64\n"
          ]
        }
      ]
    },
    {
      "cell_type": "code",
      "source": [
        "x += 1\n",
        "print(x)\n",
        "x *= 2\n",
        "print(x)"
      ],
      "metadata": {
        "colab": {
          "base_uri": "https://localhost:8080/"
        },
        "id": "K3xu2HBK6zvP",
        "outputId": "7b31e184-d303-4bb4-be4e-ed8b92691fd9"
      },
      "execution_count": null,
      "outputs": [
        {
          "output_type": "stream",
          "name": "stdout",
          "text": [
            "4\n",
            "8\n"
          ]
        }
      ]
    },
    {
      "cell_type": "code",
      "source": [
        "y = 2.5\n",
        "print(type(y))\n",
        "print(y, y + 1, y * 2, y ** 2)"
      ],
      "metadata": {
        "colab": {
          "base_uri": "https://localhost:8080/"
        },
        "id": "1dJNUXST6213",
        "outputId": "897a71c6-6d14-4e27-ac74-565e1cad910c"
      },
      "execution_count": null,
      "outputs": [
        {
          "output_type": "stream",
          "name": "stdout",
          "text": [
            "<class 'float'>\n",
            "2.5 3.5 5.0 6.25\n"
          ]
        }
      ]
    },
    {
      "cell_type": "markdown",
      "source": [
        "Note that unlike many languages, Python does not have unary increment (x++) or decrement (x--) operators.\n",
        "\n",
        "Python also has built-in types for long integers and complex numbers; you can find all of the details in the [documentation](https://docs.python.org/3.7/library/stdtypes.html#numeric-types-int-float-long-complex).\n",
        "\n",
        "Complex numbers have a real and imaginary part, which are each a floating point number. To extract these parts from a complex number z, use `z.real` and `z.imag`."
      ],
      "metadata": {
        "id": "Syxs6dHR7JAI"
      }
    },
    {
      "cell_type": "code",
      "source": [
        "a = 5\n",
        "y = 7\n",
        "z = complex(a, y) # Z = a + iy\n",
        "print(type(z))\n",
        "print(a, y) # Integer\n",
        "print(z.real, z.imag) # Floating point number"
      ],
      "metadata": {
        "colab": {
          "base_uri": "https://localhost:8080/"
        },
        "id": "7oaDbEgq7IoL",
        "outputId": "0ee2065a-3435-4773-8c73-5311bd455274"
      },
      "execution_count": null,
      "outputs": [
        {
          "output_type": "stream",
          "name": "stdout",
          "text": [
            "<class 'complex'>\n",
            "5 7\n",
            "5.0 7.0\n"
          ]
        }
      ]
    },
    {
      "cell_type": "markdown",
      "source": [
        "####Booleans"
      ],
      "metadata": {
        "id": "9MQTsfJ76lbd"
      }
    },
    {
      "cell_type": "markdown",
      "source": [
        "Python implements all of the usual operators for Boolean logic, but uses English words rather than symbols (`&&`, `||`, etc.):"
      ],
      "metadata": {
        "id": "Ktv8gNLl9vgb"
      }
    },
    {
      "cell_type": "code",
      "source": [
        "t, f = True, False\n",
        "print(type(t))\n",
        "print(t, f)"
      ],
      "metadata": {
        "colab": {
          "base_uri": "https://localhost:8080/"
        },
        "id": "9X-oqcgl9wcL",
        "outputId": "e96d8931-5205-44e2-abf7-1ea34f9fea3d"
      },
      "execution_count": null,
      "outputs": [
        {
          "output_type": "stream",
          "name": "stdout",
          "text": [
            "<class 'bool'>\n",
            "True False\n"
          ]
        }
      ]
    },
    {
      "cell_type": "markdown",
      "source": [
        "Now we let's look at the operations:"
      ],
      "metadata": {
        "id": "eGfbORhF92Pb"
      }
    },
    {
      "cell_type": "code",
      "source": [
        "print(t and f) # Logical AND;\n",
        "print(t or f)  # Logical OR;\n",
        "print(not t)   # Logical NOT;\n",
        "print(t != f)  # Logical XOR;"
      ],
      "metadata": {
        "colab": {
          "base_uri": "https://localhost:8080/"
        },
        "id": "Qgs28KN990GA",
        "outputId": "f9f329da-6685-452a-8dac-44730e3f9967"
      },
      "execution_count": null,
      "outputs": [
        {
          "output_type": "stream",
          "name": "stdout",
          "text": [
            "False\n",
            "True\n",
            "False\n",
            "True\n"
          ]
        }
      ]
    },
    {
      "cell_type": "markdown",
      "source": [
        "####Strings"
      ],
      "metadata": {
        "id": "n7FYv6ei-G-A"
      }
    },
    {
      "cell_type": "code",
      "source": [
        "hello = 'hello'   # String literals can use single quotes\n",
        "world = \"world\"   # or double quotes; it does not matter\n",
        "print (type(hello)) # type(world) is same as type(hello)\n",
        "print(hello, len(hello))"
      ],
      "metadata": {
        "colab": {
          "base_uri": "https://localhost:8080/"
        },
        "id": "zlE-VvNp-L0i",
        "outputId": "02b010f6-11a5-436b-8d6a-43f8722881d0"
      },
      "execution_count": null,
      "outputs": [
        {
          "output_type": "stream",
          "name": "stdout",
          "text": [
            "<class 'str'>\n",
            "hello 5\n"
          ]
        }
      ]
    },
    {
      "cell_type": "code",
      "source": [
        "hw = hello + ' ' + world  # String concatenation\n",
        "print(hw)"
      ],
      "metadata": {
        "colab": {
          "base_uri": "https://localhost:8080/"
        },
        "id": "Qj1b8WUl-mzE",
        "outputId": "ac844841-c027-4363-cc86-ddded0515867"
      },
      "execution_count": null,
      "outputs": [
        {
          "output_type": "stream",
          "name": "stdout",
          "text": [
            "hello world\n"
          ]
        }
      ]
    },
    {
      "cell_type": "code",
      "source": [
        "hw12 = '{} test {} this one too {}'.format(hello, world, 12)  # string formatting\n",
        "print(hw12)"
      ],
      "metadata": {
        "colab": {
          "base_uri": "https://localhost:8080/"
        },
        "id": "Bs6AJ4N1-21J",
        "outputId": "57793982-7fb5-4f92-a4a5-c57b9f8952af"
      },
      "execution_count": null,
      "outputs": [
        {
          "output_type": "stream",
          "name": "stdout",
          "text": [
            "hello test world this one too 12\n"
          ]
        }
      ]
    },
    {
      "cell_type": "markdown",
      "source": [
        "String objects have a bunch of useful methods; for example:"
      ],
      "metadata": {
        "id": "z_P9gS1Q_HkG"
      }
    },
    {
      "cell_type": "code",
      "source": [
        "s = \"hello\"\n",
        "print(s.capitalize())  # Capitalize a string\n",
        "print(s.upper())       # Convert a string to uppercase; prints \"HELLO\"\n",
        "print(s.rjust(7))      # Right-justify a string, padding with spaces\n",
        "print(s.center(7))     # Center a string, padding with spaces\n",
        "print(s.replace('l', '(ell)'))  # Replace all instances of one substring with another\n",
        "print('      world    '.strip())  # Strip leading and trailing whitespace"
      ],
      "metadata": {
        "colab": {
          "base_uri": "https://localhost:8080/"
        },
        "id": "nwOXE7pD-_83",
        "outputId": "e206896e-f9b7-46ce-cdd1-f1f49b757e10"
      },
      "execution_count": null,
      "outputs": [
        {
          "output_type": "stream",
          "name": "stdout",
          "text": [
            "Hello\n",
            "HELLO\n",
            "  hello\n",
            " hello \n",
            "he(ell)(ell)o\n",
            "world\n"
          ]
        }
      ]
    },
    {
      "cell_type": "markdown",
      "source": [
        "You can find a list of all string methods in the [documentation](https://docs.python.org/3.7/library/stdtypes.html#string-methods)."
      ],
      "metadata": {
        "id": "uIx_AzEg_w0-"
      }
    },
    {
      "cell_type": "markdown",
      "source": [
        "###Containers"
      ],
      "metadata": {
        "id": "3HL1NkuL_2db"
      }
    },
    {
      "cell_type": "markdown",
      "source": [
        "Python includes several built-in container types: lists, dictionaries, sets, and tuples."
      ],
      "metadata": {
        "id": "z1oQeg1w_5iu"
      }
    },
    {
      "cell_type": "markdown",
      "source": [
        "####Lists"
      ],
      "metadata": {
        "id": "s9MD7FLwAw9G"
      }
    },
    {
      "cell_type": "markdown",
      "source": [
        "A list is the Python equivalent of an array, but is resizeable and can contain elements of different types:"
      ],
      "metadata": {
        "id": "lvSZm6d5Ay6_"
      }
    },
    {
      "cell_type": "code",
      "source": [
        "xs = [3, 1, 2]   # Create a list\n",
        "print(xs, xs[2])\n",
        "print(xs[-1])     # Negative indices count from the end of the list; prints \"2\""
      ],
      "metadata": {
        "colab": {
          "base_uri": "https://localhost:8080/"
        },
        "id": "JFbH4aEJ_1u_",
        "outputId": "e4fb1735-26c6-431e-e46a-82ca0839148d"
      },
      "execution_count": null,
      "outputs": [
        {
          "output_type": "stream",
          "name": "stdout",
          "text": [
            "[3, 1, 2] 2\n",
            "2\n"
          ]
        }
      ]
    },
    {
      "cell_type": "code",
      "source": [
        "xs[2] = 'foo'    # Lists can contain elements of different types\n",
        "print(xs)"
      ],
      "metadata": {
        "colab": {
          "base_uri": "https://localhost:8080/"
        },
        "id": "ihAiAwUeBEen",
        "outputId": "77197359-8891-4693-8382-5a3a4a2e041f"
      },
      "execution_count": null,
      "outputs": [
        {
          "output_type": "stream",
          "name": "stdout",
          "text": [
            "[3, 1, 'foo']\n"
          ]
        }
      ]
    },
    {
      "cell_type": "code",
      "source": [
        "xs.append('bar') # Add a new element to the end of the list\n",
        "print(xs)"
      ],
      "metadata": {
        "colab": {
          "base_uri": "https://localhost:8080/"
        },
        "id": "9gwFWexuBFPM",
        "outputId": "cfd3eaa6-8dd2-4bbf-e2d0-e8bacda31ddd"
      },
      "execution_count": null,
      "outputs": [
        {
          "output_type": "stream",
          "name": "stdout",
          "text": [
            "[3, 1, 'foo', 'bar']\n"
          ]
        }
      ]
    },
    {
      "cell_type": "code",
      "source": [
        "x = xs.pop()     # Remove and return the last element of the list\n",
        "print(x, xs)"
      ],
      "metadata": {
        "colab": {
          "base_uri": "https://localhost:8080/"
        },
        "id": "tYckf1rDBKGl",
        "outputId": "5e4d610c-f07e-4c2c-d27f-dfbd6d265b8b"
      },
      "execution_count": null,
      "outputs": [
        {
          "output_type": "stream",
          "name": "stdout",
          "text": [
            "bar [3, 1, 'foo']\n"
          ]
        }
      ]
    },
    {
      "cell_type": "markdown",
      "source": [
        "As usual, you can find all the details about lists in the [documentation](https://docs.python.org/3.7/tutorial/datastructures.html#more-on-lists)."
      ],
      "metadata": {
        "id": "cSkY856LBUXT"
      }
    }
  ]
}
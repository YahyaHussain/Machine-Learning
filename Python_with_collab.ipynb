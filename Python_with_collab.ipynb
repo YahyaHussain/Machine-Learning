{
  "nbformat": 4,
  "nbformat_minor": 0,
  "metadata": {
    "colab": {
      "provenance": [],
      "authorship_tag": "ABX9TyOc3ht/KN4nvAXvXV2MmPTv",
      "include_colab_link": true
    },
    "kernelspec": {
      "name": "python3",
      "display_name": "Python 3"
    },
    "language_info": {
      "name": "python"
    }
  },
  "cells": [
    {
      "cell_type": "markdown",
      "metadata": {
        "id": "view-in-github",
        "colab_type": "text"
      },
      "source": [
        "<a href=\"https://colab.research.google.com/github/YahyaHussain/Python/blob/main/Python_with_collab.ipynb\" target=\"_parent\"><img src=\"https://colab.research.google.com/assets/colab-badge.svg\" alt=\"Open In Colab\"/></a>"
      ]
    },
    {
      "cell_type": "markdown",
      "source": [
        "#Python With Collab"
      ],
      "metadata": {
        "id": "pXVQ2lyakcs4"
      }
    },
    {
      "cell_type": "markdown",
      "source": [
        "##Python Versions"
      ],
      "metadata": {
        "id": "dVqGm3fvhv74"
      }
    },
    {
      "cell_type": "markdown",
      "source": [
        "To know the python version we use `python --version` and change version by going through `Runtime -> Change runtime type` and selecting `python 3`.\n",
        "\n",
        "To execute `python --version` in collab we use `!python --version`.\n",
        "\n",
        "Here `!` indicates that the `python --version` is not a normal code but a command.\n",
        "\n",
        "`NameError: name 'python' is not defined` if `python --version` is used."
      ],
      "metadata": {
        "id": "_5g6bKHZkp1p"
      }
    },
    {
      "cell_type": "code",
      "source": [
        "!python --version"
      ],
      "metadata": {
        "colab": {
          "base_uri": "https://localhost:8080/"
        },
        "id": "XP7DRCLDjP0g",
        "outputId": "0489f8e2-8abb-4170-863a-1cfa503708f0"
      },
      "execution_count": 4,
      "outputs": [
        {
          "output_type": "stream",
          "name": "stdout",
          "text": [
            "Python 3.10.12\n"
          ]
        }
      ]
    },
    {
      "cell_type": "code",
      "source": [],
      "metadata": {
        "id": "ucR3BUR6kXE3"
      },
      "execution_count": null,
      "outputs": []
    }
  ]
}